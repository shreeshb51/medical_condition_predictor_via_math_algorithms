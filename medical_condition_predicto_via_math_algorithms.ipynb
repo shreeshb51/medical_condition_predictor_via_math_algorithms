{
 "cells": [
  {
   "cell_type": "code",
   "execution_count": 1,
   "id": "7666f8d4",
   "metadata": {
    "execution": {
     "iopub.execute_input": "2025-09-18T01:51:03.119172Z",
     "iopub.status.busy": "2025-09-18T01:51:03.118203Z",
     "iopub.status.idle": "2025-09-18T01:51:19.815055Z",
     "shell.execute_reply": "2025-09-18T01:51:19.814031Z"
    },
    "papermill": {
     "duration": 16.703774,
     "end_time": "2025-09-18T01:51:19.816639",
     "exception": false,
     "start_time": "2025-09-18T01:51:03.112865",
     "status": "completed"
    },
    "tags": []
   },
   "outputs": [
    {
     "name": "stdout",
     "output_type": "stream",
     "text": [
      "using 4 CPU cores for parallel processing.\n"
     ]
    }
   ],
   "source": [
    "# 1. imports and setup\n",
    "import pandas as pd\n",
    "import numpy as np\n",
    "import string\n",
    "import json\n",
    "import re\n",
    "from bs4 import BeautifulSoup\n",
    "import spacy\n",
    "from nltk.corpus import stopwords\n",
    "import warnings\n",
    "from multiprocessing import Pool, cpu_count\n",
    "from functools import partial\n",
    "import joblib\n",
    "from tqdm import tqdm\n",
    "import logging\n",
    "from sklearn.pipeline import Pipeline\n",
    "from sklearn.compose import ColumnTransformer\n",
    "from sklearn.model_selection import train_test_split, GridSearchCV, StratifiedKFold\n",
    "from sklearn.feature_extraction.text import TfidfVectorizer\n",
    "from sklearn.naive_bayes import MultinomialNB\n",
    "from sklearn.linear_model import PassiveAggressiveClassifier, LogisticRegression\n",
    "from sklearn.ensemble import StackingClassifier\n",
    "from sklearn.metrics import accuracy_score, confusion_matrix, classification_report, f1_score\n",
    "from sklearn import metrics\n",
    "import matplotlib.pyplot as plt\n",
    "import seaborn as sns\n",
    "\n",
    "plt.style.use('seaborn-v0_8')\n",
    "warnings.filterwarnings('ignore')\n",
    "print(f\"using {cpu_count()} CPU cores for parallel processing.\")"
   ]
  },
  {
   "cell_type": "code",
   "execution_count": 2,
   "id": "50b703e0",
   "metadata": {
    "execution": {
     "iopub.execute_input": "2025-09-18T01:51:19.825162Z",
     "iopub.status.busy": "2025-09-18T01:51:19.824613Z",
     "iopub.status.idle": "2025-09-18T01:51:19.832953Z",
     "shell.execute_reply": "2025-09-18T01:51:19.831824Z"
    },
    "papermill": {
     "duration": 0.014316,
     "end_time": "2025-09-18T01:51:19.834570",
     "exception": false,
     "start_time": "2025-09-18T01:51:19.820254",
     "status": "completed"
    },
    "tags": []
   },
   "outputs": [
    {
     "name": "stdout",
     "output_type": "stream",
     "text": [
      "configuration loaded successfully!\n"
     ]
    }
   ],
   "source": [
    "# 2. configuration parameters\n",
    "CONFIG = {\n",
    "    'target_conditions': [\n",
    "        'Birth Control', 'Depression', 'Pain', 'Acne', 'Anxiety', 'Insomnia', \n",
    "        'Weight Loss', 'ADHD', 'Obesity', 'Emergency Contraception', 'High Blood Pressure', \n",
    "        'Bowel Preparation', 'Migraine', 'Smoking Cessation', 'Urinary Tract Infection', \n",
    "        'Constipation', 'Chronic Pain', 'Osteoarthritis', 'Muscle Spasm', 'Opiate Dependence',\n",
    "        'Irritable Bowel Syndrome', 'Allergic Rhinitis', 'Sinusitis', 'GERD', \n",
    "        'Rheumatoid Arthritis', 'Restless Legs Syndrome', 'Cough', 'Hyperhidrosis', \n",
    "        'High Cholesterol', 'Back Pain', 'Bronchitis', 'Hepatitis C', 'Rosacea', \n",
    "        'Schizophrenia', 'Psoriasis', 'Multiple Sclerosis', 'Endometriosis', \n",
    "        'Benign Prostatic Hyperplasia', 'Bacterial Vaginitis', 'Chlamydia Infection', \n",
    "        'Headache', 'Seizures', 'Influenza', 'Atrial Fibrillation', 'Epilepsy', 'Asthma'\n",
    "    ],\n",
    "    'tfidf_params': {\n",
    "        'sublinear_tf': True,\n",
    "        'min_df': 1,\n",
    "        'norm': 'l2',\n",
    "        'encoding': 'latin-1',\n",
    "        'ngram_range': (1, 2),\n",
    "        'stop_words': 'english',\n",
    "        'max_df': 0.85,\n",
    "        'max_features': 20000\n",
    "    },\n",
    "    'cv_folds': 5,\n",
    "    'random_state': 42,\n",
    "    'n_jobs': -1\n",
    "}\n",
    "\n",
    "# parameter distributions\n",
    "PARAM_DISTRIBUTIONS = {\n",
    "    'naive_bayes': {\n",
    "        'alpha': [0.1],\n",
    "        'fit_prior': [False]\n",
    "    },\n",
    "    'passive_aggressive': {\n",
    "        'C': [0.05],\n",
    "        'loss': ['squared_hinge'],\n",
    "        'max_iter': [50]\n",
    "    },\n",
    "    'logistic_regression': {\n",
    "        'C': [20],\n",
    "        'penalty': ['l2'],\n",
    "        'solver': ['lbfgs'],\n",
    "        'max_iter': [800]\n",
    "    }\n",
    "}\n",
    "\n",
    "print(\"configuration loaded successfully!\")"
   ]
  },
  {
   "cell_type": "code",
   "execution_count": 3,
   "id": "819c6ac2",
   "metadata": {
    "execution": {
     "iopub.execute_input": "2025-09-18T01:51:19.843737Z",
     "iopub.status.busy": "2025-09-18T01:51:19.842289Z",
     "iopub.status.idle": "2025-09-18T01:51:23.308680Z",
     "shell.execute_reply": "2025-09-18T01:51:23.307616Z"
    },
    "papermill": {
     "duration": 3.47246,
     "end_time": "2025-09-18T01:51:23.310380",
     "exception": false,
     "start_time": "2025-09-18T01:51:19.837920",
     "status": "completed"
    },
    "tags": []
   },
   "outputs": [
    {
     "name": "stdout",
     "output_type": "stream",
     "text": [
      "original train dataset shape: (161297, 7)\n",
      "original test dataset shape: (53766, 7)\n",
      "\n",
      "train - before duplicate removal: 103424 samples\n",
      "train - after duplicate removal: 71061 samples\n",
      "train - text length range: 88 - 772 characters\n",
      "train - after outlier removal: 64191 samples\n",
      "test - before duplicate removal: 34713 samples\n",
      "test - after duplicate removal: 31018 samples\n",
      "test - text length range: 88 - 772 characters\n",
      "test - after outlier removal: 28038 samples\n",
      "\n",
      "\n",
      "train validation passed: 64191 rows, 2 columns\n",
      "test validation passed: 28038 rows, 2 columns\n",
      "\n",
      "final train dataset: (64191, 2)\n",
      "final test dataset: (28038, 2)\n"
     ]
    }
   ],
   "source": [
    "# 3. data loading and validation\n",
    "def validate_dataset(df, dataset_name):\n",
    "    # validate dataset integrity\n",
    "    assert not df.empty, f\"{dataset_name} dataset is empty\"\n",
    "    assert 'condition' in df.columns, f\"missing condition column in {dataset_name}\"\n",
    "    assert 'review' in df.columns, f\"missing review column in {dataset_name}\"\n",
    "    print(f\"{dataset_name} validation passed: {df.shape[0]} rows, {df.shape[1]} columns\")\n",
    "\n",
    "def clean_data_advanced(df, dataset_name):\n",
    "    # remove duplicates based on review text and condition\n",
    "    print(f\"{dataset_name} - before duplicate removal: {df.shape[0]} samples\")\n",
    "    df = df.drop_duplicates(subset=['review', 'condition'], keep='first')\n",
    "    print(f\"{dataset_name} - after duplicate removal: {df.shape[0]} samples\")\n",
    "    \n",
    "    # remove outliers based on text length\n",
    "    df['text_length'] = df['review'].str.len()\n",
    "    q1 = df['text_length'].quantile(0.05)\n",
    "    q3 = df['text_length'].quantile(0.95)\n",
    "    \n",
    "    print(f\"{dataset_name} - text length range: {q1:.0f} - {q3:.0f} characters\")\n",
    "    df_filtered = df[(df['text_length'] >= q1) & (df['text_length'] <= q3)]\n",
    "    print(f\"{dataset_name} - after outlier removal: {df_filtered.shape[0]} samples\")\n",
    "    \n",
    "    return df_filtered.drop('text_length', axis=1)\n",
    "\n",
    "# load datasets\n",
    "df_train = pd.read_table('/kaggle/input/diseases-drugs-raw-data/train_raw.tsv', dtype=str)\n",
    "df_test = pd.read_table('/kaggle/input/diseases-drugs-raw-data/test_raw.tsv', dtype=str)\n",
    "\n",
    "print(f\"original train dataset shape: {df_train.shape}\")\n",
    "print(f\"original test dataset shape: {df_test.shape}\\n\")\n",
    "\n",
    "# remove unnecessary columns\n",
    "unused_cols = ['Unnamed: 0', 'drugName', 'rating', 'date', 'usefulCount']\n",
    "df_train = df_train.drop(columns=[col for col in unused_cols if col in df_train.columns])\n",
    "df_test = df_test.drop(columns=[col for col in unused_cols if col in df_test.columns])\n",
    "\n",
    "# filter for target conditions and remove missing values\n",
    "df_train = df_train[df_train['condition'].isin(CONFIG['target_conditions'])]\n",
    "df_train = df_train.dropna()\n",
    "df_test = df_test[df_test['condition'].isin(CONFIG['target_conditions'])]\n",
    "df_test = df_test.dropna()\n",
    "\n",
    "# apply cleaning to both datasets\n",
    "df_train_clean = clean_data_advanced(df_train, \"train\")\n",
    "df_test_clean = clean_data_advanced(df_test, \"test\")\n",
    "\n",
    "# validate cleaned datasets\n",
    "print(\"\\n\")\n",
    "validate_dataset(df_train_clean, \"train\")\n",
    "validate_dataset(df_test_clean, \"test\")\n",
    "\n",
    "print(f\"\\nfinal train dataset: {df_train_clean.shape}\")\n",
    "print(f\"final test dataset: {df_test_clean.shape}\")"
   ]
  },
  {
   "cell_type": "code",
   "execution_count": 4,
   "id": "437af94d",
   "metadata": {
    "execution": {
     "iopub.execute_input": "2025-09-18T01:51:23.319764Z",
     "iopub.status.busy": "2025-09-18T01:51:23.318434Z",
     "iopub.status.idle": "2025-09-18T01:51:23.328827Z",
     "shell.execute_reply": "2025-09-18T01:51:23.327550Z"
    },
    "papermill": {
     "duration": 0.016431,
     "end_time": "2025-09-18T01:51:23.330528",
     "exception": false,
     "start_time": "2025-09-18T01:51:23.314097",
     "status": "completed"
    },
    "tags": []
   },
   "outputs": [
    {
     "name": "stdout",
     "output_type": "stream",
     "text": [
      "preprocessing functions loaded!\n"
     ]
    }
   ],
   "source": [
    "# 4. parallel text preprocessing functions\n",
    "def clean_single_text(text):\n",
    "    # single text cleaning function - must be at module level for multiprocessing\n",
    "    # remove html tags\n",
    "    text = BeautifulSoup(text, 'html.parser').get_text()\n",
    "    # remove quotes and non-alphabetic characters  \n",
    "    text = str(text).replace('\"', '')\n",
    "    text = re.sub('[^a-zA-Z]', ' ', text)\n",
    "    # remove stopwords\n",
    "    stop_words = set(stopwords.words('english'))\n",
    "    words = [word for word in text.split() if word.lower() not in stop_words]\n",
    "    # remove punctuation\n",
    "    text = ' '.join(words)\n",
    "    text = ''.join([char for char in text if char not in string.punctuation])\n",
    "    return text.lower().strip()\n",
    "\n",
    "def parallel_text_cleaning(texts, n_processes=None):\n",
    "    # parallel text preprocessing for improved speed\n",
    "    if n_processes is None:\n",
    "        n_processes = min(cpu_count(), 4) # limit processes to avoid memory issues\n",
    "    \n",
    "    with Pool(processes=n_processes) as pool:\n",
    "        cleaned_texts = list(tqdm(pool.imap(clean_single_text, texts), total=len(texts), desc=\"cleaning texts\"))\n",
    "    \n",
    "    return cleaned_texts\n",
    "\n",
    "def extract_text_features(texts):\n",
    "    # extract additional text features\n",
    "    features = pd.DataFrame()\n",
    "    features['text_length'] = [len(text) for text in texts]\n",
    "    features['word_count'] = [len(text.split()) for text in texts]\n",
    "    features['avg_word_length'] = [np.mean([len(word) for word in text.split()]) if text.split() else 0 for text in texts]\n",
    "    return features\n",
    "\n",
    "print(\"preprocessing functions loaded!\")"
   ]
  },
  {
   "cell_type": "code",
   "execution_count": 5,
   "id": "b8d58ed6",
   "metadata": {
    "execution": {
     "iopub.execute_input": "2025-09-18T01:51:23.338960Z",
     "iopub.status.busy": "2025-09-18T01:51:23.338629Z",
     "iopub.status.idle": "2025-09-18T01:51:44.855509Z",
     "shell.execute_reply": "2025-09-18T01:51:44.854249Z"
    },
    "papermill": {
     "duration": 21.522856,
     "end_time": "2025-09-18T01:51:44.856976",
     "exception": false,
     "start_time": "2025-09-18T01:51:23.334120",
     "status": "completed"
    },
    "tags": []
   },
   "outputs": [
    {
     "name": "stdout",
     "output_type": "stream",
     "text": [
      "starting text preprocessing...\n"
     ]
    },
    {
     "name": "stderr",
     "output_type": "stream",
     "text": [
      "cleaning texts: 100%|██████████| 64191/64191 [00:12<00:00, 5072.37it/s]\n",
      "cleaning texts: 100%|██████████| 28038/28038 [00:05<00:00, 4881.51it/s]\n"
     ]
    },
    {
     "name": "stdout",
     "output_type": "stream",
     "text": [
      "\n",
      "extracted 3 additional text features\n",
      "\n",
      "sample original review: \"My son is halfway through his fourth week of Intuniv. We became concerned when he began this last week, when he started taking the highest dose he wi...\n",
      "\n",
      "sample cleaned review: son halfway fourth week intuniv became concerned began last week started taking highest dose two days could hardly get bed cranky slept nearly hours d...\n",
      "\n"
     ]
    },
    {
     "data": {
      "image/png": "[encoded data removed]",
      "text/plain": [
       "<Figure size 1500x400 with 3 Axes>"
      ]
     },
     "metadata": {},
     "output_type": "display_data"
    },
    {
     "name": "stdout",
     "output_type": "stream",
     "text": [
      "training set: 64191 samples\n",
      "testing set: 28038 samples\n",
      "unique conditions: 46\n"
     ]
    }
   ],
   "source": [
    "# 5. apply text preprocessing\n",
    "print(\"starting text preprocessing...\")\n",
    "\n",
    "# preprocess text data\n",
    "df_train_clean['cleaned_review'] = parallel_text_cleaning(df_train_clean['review'].tolist())\n",
    "df_test_clean['cleaned_review'] = parallel_text_cleaning(df_test_clean['review'].tolist())\n",
    "\n",
    "# extract additional features\n",
    "text_features_train = extract_text_features(df_train_clean['cleaned_review'].tolist())\n",
    "text_features_test = extract_text_features(df_test_clean['cleaned_review'].tolist())\n",
    "text_features_combined = pd.concat([text_features_train, text_features_test], ignore_index=True)\n",
    "\n",
    "print(f\"\\nextracted {text_features_combined.shape[1]} additional text features\")\n",
    "\n",
    "# display preprocessing results\n",
    "print(f\"\\nsample original review: {df_train_clean['review'].iloc[0][:150]}...\")\n",
    "print(f\"\\nsample cleaned review: {df_train_clean['cleaned_review'].iloc[0][:150]}...\\n\")\n",
    "\n",
    "# visualize text statistics\n",
    "fig, axes = plt.subplots(1, 3, figsize=(15, 4))\n",
    "\n",
    "axes[0].hist(text_features_combined['text_length'], bins=50, alpha=0.7, color='blue')\n",
    "axes[0].set_title('text length distribution')\n",
    "axes[0].set_xlabel('characters')\n",
    "\n",
    "axes[1].hist(text_features_combined['word_count'], bins=50, alpha=0.7, color='green')\n",
    "axes[1].set_title('word count distribution')\n",
    "axes[1].set_xlabel('words')\n",
    "\n",
    "axes[2].hist(text_features_combined['avg_word_length'], bins=30, alpha=0.7, color='red')\n",
    "axes[2].set_title('average word length')\n",
    "axes[2].set_xlabel('characters per word')\n",
    "\n",
    "plt.tight_layout()\n",
    "plt.show()\n",
    "\n",
    "# prepare final data splits\n",
    "X_train = df_train_clean['cleaned_review']\n",
    "y_train = df_train_clean['condition']\n",
    "X_test = df_test_clean['cleaned_review']\n",
    "y_test = df_test_clean['condition']\n",
    "\n",
    "print(f\"training set: {len(X_train)} samples\")\n",
    "print(f\"testing set: {len(X_test)} samples\")\n",
    "print(f\"unique conditions: {y_train.nunique()}\")"
   ]
  },
  {
   "cell_type": "code",
   "execution_count": 6,
   "id": "90c59f31",
   "metadata": {
    "execution": {
     "iopub.execute_input": "2025-09-18T01:51:44.884645Z",
     "iopub.status.busy": "2025-09-18T01:51:44.884191Z",
     "iopub.status.idle": "2025-09-18T01:51:44.897022Z",
     "shell.execute_reply": "2025-09-18T01:51:44.896086Z"
    },
    "papermill": {
     "duration": 0.028513,
     "end_time": "2025-09-18T01:51:44.898742",
     "exception": false,
     "start_time": "2025-09-18T01:51:44.870229",
     "status": "completed"
    },
    "tags": []
   },
   "outputs": [
    {
     "name": "stdout",
     "output_type": "stream",
     "text": [
      "model trainer initialized!\n"
     ]
    }
   ],
   "source": [
    "# 6. model training pipeline\n",
    "class ModelTrainer:\n",
    "    def __init__(self, config):\n",
    "        self.config = config\n",
    "        self.models = {}\n",
    "        self.results = {}\n",
    "        self.vectorizer = None\n",
    "        \n",
    "    def create_models(self):\n",
    "        self.models = {\n",
    "            'naive_bayes': MultinomialNB(),\n",
    "            'passive_aggressive': PassiveAggressiveClassifier(random_state=self.config['random_state']),\n",
    "            'logistic_regression': LogisticRegression(random_state=self.config['random_state'], n_jobs=self.config['n_jobs'])\n",
    "        }\n",
    "\n",
    "    def train_models(self, X_train, X_test, y_train, y_test):\n",
    "        # vectorize text data\n",
    "        self.vectorizer = TfidfVectorizer(**self.config['tfidf_params'])\n",
    "        X_train_vec = self.vectorizer.fit_transform(X_train)\n",
    "        X_test_vec = self.vectorizer.transform(X_test)\n",
    "        \n",
    "        cv_strategy = StratifiedKFold(n_splits=self.config['cv_folds'], shuffle=True, random_state=self.config['random_state'])\n",
    "        \n",
    "        for name, model in tqdm(self.models.items(), desc=\"training models\"):\n",
    "            print(f\"\\ntraining {name} model:\")\n",
    "            \n",
    "            param_grid = PARAM_DISTRIBUTIONS.get(name, {})\n",
    "            \n",
    "            grid_search = GridSearchCV(\n",
    "                model, param_grid, cv=cv_strategy, scoring='f1_macro', \n",
    "                n_jobs=self.config['n_jobs'], verbose=0\n",
    "            )\n",
    "            grid_search.fit(X_train_vec, y_train)\n",
    "            best_model = grid_search.best_estimator_\n",
    "            best_params = grid_search.best_params_\n",
    "            cv_mean = grid_search.best_score_\n",
    "            cv_std = grid_search.cv_results_['std_test_score'][grid_search.best_index_]\n",
    "            \n",
    "            # evaluate model\n",
    "            train_pred = best_model.predict(X_train_vec)\n",
    "            test_pred = best_model.predict(X_test_vec)\n",
    "            \n",
    "            # calculate metrics\n",
    "            train_acc = accuracy_score(y_train, train_pred)\n",
    "            test_acc = accuracy_score(y_test, test_pred)\n",
    "            f1_macro = f1_score(y_test, test_pred, average='macro')\n",
    "            f1_weighted = f1_score(y_test, test_pred, average='weighted')\n",
    "            \n",
    "            self.results[name] = {\n",
    "                'model': best_model,\n",
    "                'train_accuracy': train_acc,\n",
    "                'test_accuracy': test_acc,\n",
    "                'f1_macro': f1_macro,\n",
    "                'f1_weighted': f1_weighted,\n",
    "                'cv_mean': cv_mean,\n",
    "                'cv_std': cv_std,\n",
    "                'best_params': best_params,\n",
    "                'test_predictions': test_pred\n",
    "            }\n",
    "            \n",
    "        return X_train_vec, X_test_vec\n",
    "\n",
    "# initialize trainer\n",
    "trainer = ModelTrainer(CONFIG)\n",
    "trainer.create_models()\n",
    "print(\"model trainer initialized!\")"
   ]
  },
  {
   "cell_type": "code",
   "execution_count": 7,
   "id": "738ce03a",
   "metadata": {
    "execution": {
     "iopub.execute_input": "2025-09-18T01:51:44.928305Z",
     "iopub.status.busy": "2025-09-18T01:51:44.927694Z",
     "iopub.status.idle": "2025-09-18T02:07:04.174504Z",
     "shell.execute_reply": "2025-09-18T02:07:04.173353Z"
    },
    "papermill": {
     "duration": 919.276276,
     "end_time": "2025-09-18T02:07:04.190548",
     "exception": false,
     "start_time": "2025-09-18T01:51:44.914272",
     "status": "completed"
    },
    "tags": []
   },
   "outputs": [
    {
     "name": "stdout",
     "output_type": "stream",
     "text": [
      "training models...\n",
      "\n"
     ]
    },
    {
     "name": "stderr",
     "output_type": "stream",
     "text": [
      "training models:   0%|          | 0/3 [00:00<?, ?it/s]"
     ]
    },
    {
     "name": "stdout",
     "output_type": "stream",
     "text": [
      "\n",
      "training naive_bayes model:\n"
     ]
    },
    {
     "name": "stderr",
     "output_type": "stream",
     "text": [
      "training models:  33%|███▎      | 1/3 [00:04<00:09,  4.83s/it]"
     ]
    },
    {
     "name": "stdout",
     "output_type": "stream",
     "text": [
      "\n",
      "training passive_aggressive model:\n"
     ]
    },
    {
     "name": "stderr",
     "output_type": "stream",
     "text": [
      "training models:  67%|██████▋   | 2/3 [00:50<00:28, 28.85s/it]"
     ]
    },
    {
     "name": "stdout",
     "output_type": "stream",
     "text": [
      "\n",
      "training logistic_regression model:\n"
     ]
    },
    {
     "name": "stderr",
     "output_type": "stream",
     "text": [
      "training models: 100%|██████████| 3/3 [15:08<00:00, 302.78s/it]\n"
     ]
    }
   ],
   "source": [
    "# 7. train models\n",
    "print(\"training models...\\n\")\n",
    "X_train_vec, X_test_vec = trainer.train_models(X_train, X_test, y_train, y_test)"
   ]
  },
  {
   "cell_type": "code",
   "execution_count": 8,
   "id": "fe709986",
   "metadata": {
    "execution": {
     "iopub.execute_input": "2025-09-18T02:07:04.221233Z",
     "iopub.status.busy": "2025-09-18T02:07:04.220834Z",
     "iopub.status.idle": "2025-09-18T02:07:05.621329Z",
     "shell.execute_reply": "2025-09-18T02:07:05.620458Z"
    },
    "papermill": {
     "duration": 1.418936,
     "end_time": "2025-09-18T02:07:05.623070",
     "exception": false,
     "start_time": "2025-09-18T02:07:04.204134",
     "status": "completed"
    },
    "tags": []
   },
   "outputs": [
    {
     "data": {
      "image/png": "[encoded data removed]",
      "text/plain": [
       "<Figure size 1500x1200 with 5 Axes>"
      ]
     },
     "metadata": {},
     "output_type": "display_data"
    },
    {
     "name": "stdout",
     "output_type": "stream",
     "text": [
      "model performance summary:\n"
     ]
    },
    {
     "data": {
      "text/html": [
       "<div>\n",
       "<style scoped>\n",
       "    .dataframe tbody tr th:only-of-type {\n",
       "        vertical-align: middle;\n",
       "    }\n",
       "\n",
       "    .dataframe tbody tr th {\n",
       "        vertical-align: top;\n",
       "    }\n",
       "\n",
       "    .dataframe thead th {\n",
       "        text-align: right;\n",
       "    }\n",
       "</style>\n",
       "<table border=\"1\" class=\"dataframe\">\n",
       "  <thead>\n",
       "    <tr style=\"text-align: right;\">\n",
       "      <th></th>\n",
       "      <th>train_accuracy</th>\n",
       "      <th>test_accuracy</th>\n",
       "      <th>f1_macro</th>\n",
       "      <th>f1_weighted</th>\n",
       "      <th>cv_mean</th>\n",
       "      <th>cv_std</th>\n",
       "    </tr>\n",
       "  </thead>\n",
       "  <tbody>\n",
       "    <tr>\n",
       "      <th>naive_bayes</th>\n",
       "      <td>0.9160</td>\n",
       "      <td>0.8730</td>\n",
       "      <td>0.8431</td>\n",
       "      <td>0.8731</td>\n",
       "      <td>0.6964</td>\n",
       "      <td>0.0060</td>\n",
       "    </tr>\n",
       "    <tr>\n",
       "      <th>passive_aggressive</th>\n",
       "      <td>0.9893</td>\n",
       "      <td>0.9292</td>\n",
       "      <td>0.9039</td>\n",
       "      <td>0.9285</td>\n",
       "      <td>0.7561</td>\n",
       "      <td>0.0031</td>\n",
       "    </tr>\n",
       "    <tr>\n",
       "      <th>logistic_regression</th>\n",
       "      <td>0.9992</td>\n",
       "      <td>0.9357</td>\n",
       "      <td>0.9141</td>\n",
       "      <td>0.9353</td>\n",
       "      <td>0.7530</td>\n",
       "      <td>0.0024</td>\n",
       "    </tr>\n",
       "  </tbody>\n",
       "</table>\n",
       "</div>"
      ],
      "text/plain": [
       "                     train_accuracy  test_accuracy  f1_macro  f1_weighted  \\\n",
       "naive_bayes                  0.9160         0.8730    0.8431       0.8731   \n",
       "passive_aggressive           0.9893         0.9292    0.9039       0.9285   \n",
       "logistic_regression          0.9992         0.9357    0.9141       0.9353   \n",
       "\n",
       "                     cv_mean  cv_std  \n",
       "naive_bayes           0.6964  0.0060  \n",
       "passive_aggressive    0.7561  0.0031  \n",
       "logistic_regression   0.7530  0.0024  "
      ]
     },
     "execution_count": 8,
     "metadata": {},
     "output_type": "execute_result"
    }
   ],
   "source": [
    "# 8. results visualization function\n",
    "def create_results_dashboard(results, title_suffix=\"\"):\n",
    "    # prepare results dataframe\n",
    "    results_df = pd.DataFrame({\n",
    "        model_name: {\n",
    "            'train_accuracy': data['train_accuracy'],\n",
    "            'test_accuracy': data['test_accuracy'], \n",
    "            'f1_macro': data['f1_macro'],\n",
    "            'f1_weighted': data['f1_weighted'],\n",
    "            'cv_mean': data['cv_mean'],\n",
    "            'cv_std': data['cv_std']\n",
    "        }\n",
    "        for model_name, data in results.items()\n",
    "    }).T\n",
    "    \n",
    "    # visualization dashboard\n",
    "    fig, axes = plt.subplots(2, 2, figsize=(15, 12))\n",
    "    \n",
    "    # accuracy comparison\n",
    "    results_df[['train_accuracy', 'test_accuracy']].plot(kind='bar', ax=axes[0,0], color=['skyblue', 'lightcoral'])\n",
    "    axes[0,0].set_title(f'training vs testing accuracy{title_suffix}')\n",
    "    axes[0,0].set_ylabel('accuracy score')\n",
    "    axes[0,0].legend(['training', 'testing'])\n",
    "    axes[0,0].tick_params(axis='x', rotation=45)\n",
    "    \n",
    "    # f1 scores comparison\n",
    "    results_df[['f1_macro', 'f1_weighted']].plot(kind='bar', ax=axes[0,1], color=['lightgreen', 'gold'])\n",
    "    axes[0,1].set_title(f'f1 score comparison{title_suffix}') \n",
    "    axes[0,1].set_ylabel('f1 score')\n",
    "    axes[0,1].legend(['macro avg', 'weighted avg'])\n",
    "    axes[0,1].tick_params(axis='x', rotation=45)\n",
    "    \n",
    "    # cross validation scores with error bars\n",
    "    cv_data = results_df[['cv_mean', 'cv_std']]\n",
    "    axes[1,0].bar(cv_data.index, cv_data['cv_mean'], yerr=cv_data['cv_std'], capsize=5, color='mediumpurple', alpha=0.7)\n",
    "    axes[1,0].set_title(f'cross validation f1 scores (±std){title_suffix}')\n",
    "    axes[1,0].set_ylabel('f1 macro score')\n",
    "    axes[1,0].tick_params(axis='x', rotation=45)\n",
    "    \n",
    "    # model performance heatmap\n",
    "    heatmap_data = results_df[['test_accuracy', 'f1_macro', 'f1_weighted', 'cv_mean']]\n",
    "    sns.heatmap(heatmap_data.T, annot=True, fmt='.3f', cmap='RdYlBu_r', ax=axes[1,1])\n",
    "    axes[1,1].set_title(f'model performance heatmap{title_suffix}')\n",
    "    axes[1,1].tick_params(axis='x', rotation=45)\n",
    "    \n",
    "    plt.tight_layout()\n",
    "    plt.show()\n",
    "    \n",
    "    return results_df\n",
    "\n",
    "# visualize results\n",
    "results_df = create_results_dashboard(trainer.results)\n",
    "print(\"model performance summary:\")\n",
    "results_df.round(4)"
   ]
  },
  {
   "cell_type": "code",
   "execution_count": 9,
   "id": "92d1fca5",
   "metadata": {
    "execution": {
     "iopub.execute_input": "2025-09-18T02:07:05.657537Z",
     "iopub.status.busy": "2025-09-18T02:07:05.657157Z",
     "iopub.status.idle": "2025-09-18T02:07:05.664921Z",
     "shell.execute_reply": "2025-09-18T02:07:05.663788Z"
    },
    "papermill": {
     "duration": 0.026014,
     "end_time": "2025-09-18T02:07:05.666634",
     "exception": false,
     "start_time": "2025-09-18T02:07:05.640620",
     "status": "completed"
    },
    "tags": []
   },
   "outputs": [
    {
     "name": "stdout",
     "output_type": "stream",
     "text": [
      "best parameters for each model (based on test accuracy):\n",
      "\n",
      "NAIVE_BAYES:\n",
      "  test accuracy: 0.8730\n",
      "  parameters: {'alpha': 0.1, 'fit_prior': False}\n",
      "\n",
      "PASSIVE_AGGRESSIVE:\n",
      "  test accuracy: 0.9292\n",
      "  parameters: {'C': 0.05, 'loss': 'squared_hinge', 'max_iter': 50}\n",
      "\n",
      "LOGISTIC_REGRESSION:\n",
      "  test accuracy: 0.9357\n",
      "  parameters: {'C': 20, 'max_iter': 800, 'penalty': 'l2', 'solver': 'lbfgs'}\n",
      "\n",
      "overall best model: logistic_regression (test accuracy: 0.9357)\n"
     ]
    }
   ],
   "source": [
    "# 9. display the best parameters for corresponding test accuracy of the models\n",
    "print(\"best parameters for each model (based on test accuracy):\\n\")\n",
    "\n",
    "for model_name, results in trainer.results.items():\n",
    "    print(f\"{model_name.upper()}:\")\n",
    "    print(f\"  test accuracy: {results['test_accuracy']:.4f}\")\n",
    "    print(f\"  parameters: {results['best_params']}\")\n",
    "    print()\n",
    "\n",
    "# overall best model\n",
    "best_model_name = max(trainer.results.keys(), key=lambda x: trainer.results[x]['test_accuracy'])\n",
    "best_accuracy = trainer.results[best_model_name]['test_accuracy']\n",
    "\n",
    "print(f\"overall best model: {best_model_name} (test accuracy: {best_accuracy:.4f})\")"
   ]
  },
  {
   "cell_type": "code",
   "execution_count": 10,
   "id": "04254625",
   "metadata": {
    "execution": {
     "iopub.execute_input": "2025-09-18T02:07:05.699724Z",
     "iopub.status.busy": "2025-09-18T02:07:05.699354Z",
     "iopub.status.idle": "2025-09-18T02:23:19.436781Z",
     "shell.execute_reply": "2025-09-18T02:23:19.435726Z"
    },
    "papermill": {
     "duration": 973.772885,
     "end_time": "2025-09-18T02:23:19.455162",
     "exception": false,
     "start_time": "2025-09-18T02:07:05.682277",
     "status": "completed"
    },
    "tags": []
   },
   "outputs": [
    {
     "name": "stdout",
     "output_type": "stream",
     "text": [
      "creating stacking ensemble...\n",
      "\n",
      "best individual model: logistic_regression\n",
      "cv f1 score: 0.7530 ± 0.0024\n",
      "test accuracy: 0.9357\n",
      "\n",
      "stacking ensemble results:\n",
      "\n",
      "train accuracy: 0.9794\n",
      "test accuracy: 0.9264\n",
      "f1 macro: 0.9062\n",
      "\n",
      "final best model: logistic_regression (accuracy: 0.9357)\n"
     ]
    }
   ],
   "source": [
    "# 10. stacking ensemble\n",
    "print(\"creating stacking ensemble...\\n\")\n",
    "\n",
    "# select best individual model\n",
    "best_model_name = results_df['test_accuracy'].idxmax()\n",
    "best_model_info = trainer.results[best_model_name]\n",
    "\n",
    "print(f\"best individual model: {best_model_name}\")\n",
    "print(f\"cv f1 score: {best_model_info['cv_mean']:.4f} ± {best_model_info['cv_std']:.4f}\")\n",
    "print(f\"test accuracy: {best_model_info['test_accuracy']:.4f}\")\n",
    "\n",
    "# create stacking ensemble\n",
    "base_estimators = [(name, trainer.results[name]['model']) for name in trainer.results.keys()]\n",
    "stacking_classifier = StackingClassifier(\n",
    "    estimators=base_estimators,\n",
    "    final_estimator=LogisticRegression(random_state=CONFIG['random_state']),\n",
    "    cv=5,\n",
    "    n_jobs=CONFIG['n_jobs']\n",
    ")\n",
    "\n",
    "stacking_classifier.fit(X_train_vec, y_train)\n",
    "\n",
    "# evaluate stacking ensemble\n",
    "stacking_train_pred = stacking_classifier.predict(X_train_vec)\n",
    "stacking_test_pred = stacking_classifier.predict(X_test_vec)\n",
    "stacking_train_acc = accuracy_score(y_train, stacking_train_pred)\n",
    "stacking_test_acc = accuracy_score(y_test, stacking_test_pred)\n",
    "stacking_f1 = f1_score(y_test, stacking_test_pred, average='macro')\n",
    "\n",
    "print(\"\\nstacking ensemble results:\\n\")\n",
    "print(f\"train accuracy: {stacking_train_acc:.4f}\")\n",
    "print(f\"test accuracy: {stacking_test_acc:.4f}\")\n",
    "print(f\"f1 macro: {stacking_f1:.4f}\")\n",
    "\n",
    "# select best model\n",
    "if stacking_test_acc > best_model_info['test_accuracy']:\n",
    "    final_model = stacking_classifier\n",
    "    final_model_name = 'stacking_ensemble'\n",
    "    final_accuracy = stacking_test_acc\n",
    "    final_predictions = stacking_test_pred\n",
    "else:\n",
    "    final_model = best_model_info['model']\n",
    "    final_model_name = best_model_name\n",
    "    final_accuracy = best_model_info['test_accuracy']\n",
    "    final_predictions = best_model_info['test_predictions']\n",
    "\n",
    "print(f\"\\nfinal best model: {final_model_name} (accuracy: {final_accuracy:.4f})\")"
   ]
  },
  {
   "cell_type": "code",
   "execution_count": 11,
   "id": "59805d4f",
   "metadata": {
    "execution": {
     "iopub.execute_input": "2025-09-18T02:23:19.562251Z",
     "iopub.status.busy": "2025-09-18T02:23:19.561377Z",
     "iopub.status.idle": "2025-09-18T02:23:22.724159Z",
     "shell.execute_reply": "2025-09-18T02:23:22.723055Z"
    },
    "papermill": {
     "duration": 3.254299,
     "end_time": "2025-09-18T02:23:22.725822",
     "exception": false,
     "start_time": "2025-09-18T02:23:19.471523",
     "status": "completed"
    },
    "tags": []
   },
   "outputs": [
    {
     "name": "stdout",
     "output_type": "stream",
     "text": [
      "saving final model and creating prediction system...\n",
      "\n",
      "model saved as: medical_condition_predictor_logistic_regression.pkl\n",
      "vectorizer saved as: tfidf_vectorizer.pkl\n",
      "\n",
      "prediction system ready!\n"
     ]
    }
   ],
   "source": [
    "# 11. model persistence and prediction system\n",
    "print(\"saving final model and creating prediction system...\\n\")\n",
    "\n",
    "# save model and vectorizer\n",
    "model_filename = f'medical_condition_predictor_{final_model_name}.pkl'\n",
    "vectorizer_filename = 'tfidf_vectorizer.pkl'\n",
    "\n",
    "joblib.dump(final_model, model_filename)\n",
    "joblib.dump(trainer.vectorizer, vectorizer_filename)\n",
    "print(f\"model saved as: {model_filename}\")\n",
    "print(f\"vectorizer saved as: {vectorizer_filename}\")\n",
    "\n",
    "def predict_condition_with_confidence(model, vectorizer, text_input):\n",
    "    # input validation\n",
    "    if not text_input or not text_input.strip():\n",
    "        return {'error': 'empty input text'}\n",
    "    \n",
    "    # clean text using existing function\n",
    "    cleaned_text = clean_single_text(text_input)\n",
    "    \n",
    "    if not cleaned_text.strip():\n",
    "        return {'error': 'input contains no valid text after cleaning'}\n",
    "    \n",
    "    # vectorize and predict\n",
    "    text_vectorized = vectorizer.transform([cleaned_text])\n",
    "    prediction = model.predict(text_vectorized)[0]\n",
    "    \n",
    "    # get confidence scores if available\n",
    "    if hasattr(model, 'predict_proba'):\n",
    "        probabilities = model.predict_proba(text_vectorized)[0]\n",
    "        confidence = max(probabilities)\n",
    "        top_3_indices = probabilities.argsort()[-3:][::-1]\n",
    "        top_3_conditions = [model.classes_[i] for i in top_3_indices]\n",
    "        top_3_probs = [probabilities[i] for i in top_3_indices]\n",
    "    else:\n",
    "        confidence = None\n",
    "        top_3_conditions = [prediction]\n",
    "        top_3_probs = [None]\n",
    "    \n",
    "    return {\n",
    "        'prediction': prediction,\n",
    "        'confidence': confidence,\n",
    "        'top_3_predictions': list(zip(top_3_conditions, top_3_probs)),\n",
    "        'cleaned_input': cleaned_text\n",
    "    }\n",
    "\n",
    "print(\"\\nprediction system ready!\")"
   ]
  },
  {
   "cell_type": "code",
   "execution_count": 12,
   "id": "baa18d3d",
   "metadata": {
    "execution": {
     "iopub.execute_input": "2025-09-18T02:23:22.761802Z",
     "iopub.status.busy": "2025-09-18T02:23:22.761329Z",
     "iopub.status.idle": "2025-09-18T02:23:22.844817Z",
     "shell.execute_reply": "2025-09-18T02:23:22.843569Z"
    },
    "papermill": {
     "duration": 0.103149,
     "end_time": "2025-09-18T02:23:22.846923",
     "exception": false,
     "start_time": "2025-09-18T02:23:22.743774",
     "status": "completed"
    },
    "tags": []
   },
   "outputs": [
    {
     "name": "stdout",
     "output_type": "stream",
     "text": [
      "model prediction demonstration:\n",
      "\n",
      "test case 1:\n",
      "input text: I have severe anxiety panic disorder started when I was a child. \n",
      "                I have been taking xanax for over 30 years now. Everyday 4 pills rea...\n",
      "\n",
      "expected condition: Anxiety\n",
      "predicted condition: Anxiety\n",
      "confidence: 0.997\n",
      "top 3 predictions:\n",
      "  1. Anxiety: 0.997\n",
      "  2. Depression: 0.001\n",
      "  3. Birth Control: 0.001\n",
      "correct prediction!\n",
      "\n",
      "test case 2:\n",
      "input text: I suffer from chronic back pain after a car accident. The pain is constant \n",
      "                and makes it difficult to work or sleep. Physical therapy ...\n",
      "\n",
      "expected condition: Back Pain\n",
      "predicted condition: Chronic Pain\n",
      "confidence: 0.622\n",
      "top 3 predictions:\n",
      "  1. Chronic Pain: 0.622\n",
      "  2. Pain: 0.227\n",
      "  3. Back Pain: 0.146\n",
      "incorrect prediction!\n",
      "\n",
      "test case 3:\n",
      "input text: Started having severe headaches that last for hours. They come with nausea \n",
      "                and sensitivity to light. Nothing seems to help except sta...\n",
      "\n",
      "expected condition: Migraine\n",
      "predicted condition: Depression\n",
      "confidence: 0.352\n",
      "top 3 predictions:\n",
      "  1. Depression: 0.352\n",
      "  2. Migraine: 0.207\n",
      "  3. Birth Control: 0.166\n",
      "incorrect prediction!\n",
      "\n",
      "test case 4:\n",
      "input text: I've been struggling with depression for months now. Feel hopeless and tired all the time.\n",
      "                Nothing interests me anymore and I can bare...\n",
      "\n",
      "expected condition: Depression\n",
      "predicted condition: Depression\n",
      "confidence: 0.998\n",
      "top 3 predictions:\n",
      "  1. Depression: 0.998\n",
      "  2. Birth Control: 0.001\n",
      "  3. Insomnia: 0.000\n",
      "correct prediction!\n",
      "\n",
      "test case 5:\n",
      "input text: Having trouble sleeping for weeks. Toss and turn all night, mind racing with thoughts.\n",
      "                Even when exhausted, can't fall asleep. Tried m...\n",
      "\n",
      "expected condition: Insomnia\n",
      "predicted condition: Insomnia\n",
      "confidence: 0.975\n",
      "top 3 predictions:\n",
      "  1. Insomnia: 0.975\n",
      "  2. ADHD: 0.019\n",
      "  3. Anxiety: 0.001\n",
      "correct prediction!\n",
      "\n",
      "test case 6:\n",
      "input text: Been having stomach issues and irregular bowel movements. Sometimes constipated,\n",
      "                sometimes loose stools. Cramping and bloating after m...\n",
      "\n",
      "expected condition: Irritable Bowel Syndrome\n",
      "predicted condition: Irritable Bowel Syndrome\n",
      "confidence: 0.864\n",
      "top 3 predictions:\n",
      "  1. Irritable Bowel Syndrome: 0.864\n",
      "  2. Constipation: 0.093\n",
      "  3. Bowel Preparation: 0.011\n",
      "correct prediction!\n",
      "\n",
      "test case 7:\n",
      "input text: My joints are swollen and painful, especially in the morning. Stiffness lasts for hours.\n",
      "                Both hands and knees are affected. Anti-infla...\n",
      "\n",
      "expected condition: Rheumatoid Arthritis\n",
      "predicted condition: Rheumatoid Arthritis\n",
      "confidence: 0.545\n",
      "top 3 predictions:\n",
      "  1. Rheumatoid Arthritis: 0.545\n",
      "  2. Osteoarthritis: 0.408\n",
      "  3. Pain: 0.006\n",
      "correct prediction!\n",
      "\n",
      "test case 8:\n",
      "input text: Persistent cough that won't go away for over two weeks. Sometimes brings up phlegm.\n",
      "                Chest feels tight and breathing is slightly diffic...\n",
      "\n",
      "expected condition: Bronchitis\n",
      "predicted condition: Cough\n",
      "confidence: 0.725\n",
      "top 3 predictions:\n",
      "  1. Cough: 0.725\n",
      "  2. High Blood Pressure: 0.117\n",
      "  3. Bronchitis: 0.095\n",
      "incorrect prediction!\n",
      "\n",
      "demonstration accuracy: 0.625 (5/8)\n"
     ]
    }
   ],
   "source": [
    "# 12. comprehensive testing and demonstration\n",
    "test_cases = [\n",
    "    {'text': \"\"\"I have severe anxiety panic disorder started when I was a child. \n",
    "                I have been taking xanax for over 30 years now. Everyday 4 pills really bad days \n",
    "                I was taking 6 pills. I have extreme insomnia, anxiety and extreme panic attacks \n",
    "                that plague me everyday. Some people really do need xanax\"\"\", 'expected': 'Anxiety'},\n",
    "    {'text': \"\"\"I suffer from chronic back pain after a car accident. The pain is constant \n",
    "                and makes it difficult to work or sleep. Physical therapy hasn't helped much. \n",
    "                I need something stronger for pain management.\"\"\", 'expected': 'Back Pain'},\n",
    "    {'text': \"\"\"Started having severe headaches that last for hours. They come with nausea \n",
    "                and sensitivity to light. Nothing seems to help except staying in a dark room. \n",
    "                These episodes are becoming more frequent.\"\"\", 'expected': 'Migraine'},\n",
    "    {'text': \"\"\"I've been struggling with depression for months now. Feel hopeless and tired all the time.\n",
    "                Nothing interests me anymore and I can barely get out of bed. My doctor suggested \n",
    "                antidepressants but I'm worried about side effects.\"\"\", 'expected': 'Depression'},\n",
    "    {'text': \"\"\"Having trouble sleeping for weeks. Toss and turn all night, mind racing with thoughts.\n",
    "                Even when exhausted, can't fall asleep. Tried melatonin but doesn't help much.\n",
    "                This is affecting my work performance.\"\"\", 'expected': 'Insomnia'},\n",
    "    {'text': \"\"\"Been having stomach issues and irregular bowel movements. Sometimes constipated,\n",
    "                sometimes loose stools. Cramping and bloating after meals. Stress seems to make it worse.\n",
    "                Doctor mentioned it might be related to my gut.\"\"\", 'expected': 'Irritable Bowel Syndrome'},\n",
    "    {'text': \"\"\"My joints are swollen and painful, especially in the morning. Stiffness lasts for hours.\n",
    "                Both hands and knees are affected. Anti-inflammatory drugs help but not completely.\n",
    "                Blood tests show elevated inflammation markers.\"\"\", 'expected': 'Rheumatoid Arthritis'},\n",
    "    {'text': \"\"\"Persistent cough that won't go away for over two weeks. Sometimes brings up phlegm.\n",
    "                Chest feels tight and breathing is slightly difficult. No fever but feel run down.\n",
    "                Cough drops and syrups haven't helped.\"\"\", 'expected': 'Bronchitis'}\n",
    "]\n",
    "\n",
    "print(\"model prediction demonstration:\")\n",
    "correct_predictions = 0\n",
    "\n",
    "for i, test_case in enumerate(test_cases, 1):\n",
    "    result = predict_condition_with_confidence(final_model, trainer.vectorizer, test_case['text'])\n",
    "    \n",
    "    print(f\"\\ntest case {i}:\")\n",
    "    print(f\"input text: {test_case['text'][:150]}...\")\n",
    "    print(f\"\\nexpected condition: {test_case['expected']}\")\n",
    "    \n",
    "    if 'error' in result:\n",
    "        print(f\"prediction error: {result['error']}\")\n",
    "        continue\n",
    "        \n",
    "    print(f\"predicted condition: {result['prediction']}\")\n",
    "    \n",
    "    if result['confidence']:\n",
    "        print(f\"confidence: {result['confidence']:.3f}\")\n",
    "        print(\"top 3 predictions:\")\n",
    "        for j, (condition, prob) in enumerate(result['top_3_predictions'], 1):\n",
    "            if prob is not None:\n",
    "                print(f\"  {j}. {condition}: {prob:.3f}\")\n",
    "            else:\n",
    "                print(f\"  {j}. {condition}: n/a\")\n",
    "    \n",
    "    if result['prediction'] == test_case['expected']:\n",
    "        correct_predictions += 1\n",
    "        print(\"correct prediction!\")\n",
    "    else:\n",
    "        print(\"incorrect prediction!\")\n",
    "\n",
    "demo_accuracy = correct_predictions / len(test_cases)\n",
    "print(f\"\\ndemonstration accuracy: {demo_accuracy:.3f} ({correct_predictions}/{len(test_cases)})\")"
   ]
  },
  {
   "cell_type": "code",
   "execution_count": 13,
   "id": "74c707f1",
   "metadata": {
    "execution": {
     "iopub.execute_input": "2025-09-18T02:23:22.881073Z",
     "iopub.status.busy": "2025-09-18T02:23:22.880779Z",
     "iopub.status.idle": "2025-09-18T02:23:23.334319Z",
     "shell.execute_reply": "2025-09-18T02:23:23.333221Z"
    },
    "papermill": {
     "duration": 0.472588,
     "end_time": "2025-09-18T02:23:23.335895",
     "exception": false,
     "start_time": "2025-09-18T02:23:22.863307",
     "status": "completed"
    },
    "tags": []
   },
   "outputs": [
    {
     "name": "stdout",
     "output_type": "stream",
     "text": [
      "comprehensive summary...\n",
      "\n",
      "dataset summary:\n",
      "\n",
      "                                          metric    value\n",
      "original train samples (after duplicate removal) 103424.0\n",
      " original test samples (after duplicate removal)  34713.0\n",
      "                           cleaned train samples  64191.0\n",
      "        cleaned test samples (finalized samples)  28038.0\n",
      "       total cleaned samples (finalized samples)  92229.0\n",
      "                               target conditions     46.0\n",
      "                       avg samples per condition   2005.0\n",
      "                           min condition samples     61.0\n",
      "                           max condition samples  16793.0\n",
      "\n",
      "all models ranked by test accuracy:\n",
      "\n",
      "              model  test_accuracy  f1_macro   cv_mean\n",
      "logistic_regression         0.9357    0.9141  0.753024\n",
      " passive_aggressive         0.9292    0.9039  0.756129\n",
      "  stacking_ensemble         0.9264    0.9062       n/a\n",
      "        naive_bayes         0.8730    0.8431  0.696435\n",
      "\n",
      "\n",
      "final model summary:\n",
      "\n",
      "- selected model: logistic_regression\n",
      "- test accuracy: 0.9357\n",
      "- f1 macro score: 0.9141\n",
      "- f1 weighted score: 0.9353\n",
      "- demonstration accuracy: 0.625\n",
      "\n",
      "model files saved:\n",
      "\n",
      "- medical_condition_predictor_logistic_regression.pkl\n",
      "- tfidf_vectorizer.pkl\n"
     ]
    }
   ],
   "source": [
    "# 13. comprehensive final summary\n",
    "print(\"comprehensive summary...\\n\")\n",
    "\n",
    "# dataset summary\n",
    "dataset_summary = pd.DataFrame({\n",
    "    'metric': [\n",
    "        'original train samples (after duplicate removal)',\n",
    "        'original test samples (after duplicate removal)', \n",
    "        'cleaned train samples',\n",
    "        'cleaned test samples (finalized samples)',\n",
    "        'total cleaned samples (finalized samples)',\n",
    "        'target conditions',\n",
    "        'avg samples per condition',\n",
    "        'min condition samples',\n",
    "        'max condition samples'\n",
    "    ],\n",
    "    'value': [\n",
    "        df_train.shape[0],\n",
    "        df_test.shape[0],\n",
    "        len(X_train),\n",
    "        len(X_test),\n",
    "        len(X_train) + len(X_test),\n",
    "        len(CONFIG['target_conditions']),\n",
    "        round((len(X_train) + len(X_test)) / len(CONFIG['target_conditions']), 1),\n",
    "        min(y_train.value_counts().min(), y_test.value_counts().min()),\n",
    "        max(y_train.value_counts().max(), y_test.value_counts().max())\n",
    "    ]\n",
    "})\n",
    "\n",
    "print(\"dataset summary:\\n\")\n",
    "print(dataset_summary.to_string(index=False))\n",
    "\n",
    "# comprehensive model comparison\n",
    "all_results = []\n",
    "\n",
    "# individual models\n",
    "for name, data in trainer.results.items():\n",
    "    all_results.append({\n",
    "        'model': name,\n",
    "        'test_accuracy': data['test_accuracy'],\n",
    "        'f1_macro': data['f1_macro'],\n",
    "        'cv_mean': data['cv_mean']\n",
    "    })\n",
    "\n",
    "# stacking ensemble\n",
    "all_results.append({\n",
    "    'model': 'stacking_ensemble',\n",
    "    'test_accuracy': stacking_test_acc,\n",
    "    'f1_macro': stacking_f1,\n",
    "    'cv_mean': 'n/a'\n",
    "})\n",
    "\n",
    "results_comparison_df = pd.DataFrame(all_results)\n",
    "results_comparison_df = results_comparison_df.round(4)\n",
    "results_sorted = results_comparison_df.sort_values('test_accuracy', ascending=False)\n",
    "\n",
    "print(\"\\nall models ranked by test accuracy:\\n\")\n",
    "print(results_sorted.to_string(index=False))\n",
    "\n",
    "# final model summary\n",
    "print(\"\\n\\nfinal model summary:\\n\")\n",
    "print(f\"- selected model: {final_model_name}\")\n",
    "print(f\"- test accuracy: {final_accuracy:.4f}\")\n",
    "print(f\"- f1 macro score: {f1_score(y_test, final_predictions, average='macro'):.4f}\")\n",
    "print(f\"- f1 weighted score: {f1_score(y_test, final_predictions, average='weighted'):.4f}\")\n",
    "print(f\"- demonstration accuracy: {demo_accuracy:.3f}\")\n",
    "\n",
    "print(f\"\\nmodel files saved:\\n\")\n",
    "print(f\"- {model_filename}\")\n",
    "print(f\"- {vectorizer_filename}\")"
   ]
  },
  {
   "cell_type": "code",
   "execution_count": null,
   "id": "603789d0",
   "metadata": {
    "papermill": {
     "duration": 0.01616,
     "end_time": "2025-09-18T02:23:23.369231",
     "exception": false,
     "start_time": "2025-09-18T02:23:23.353071",
     "status": "completed"
    },
    "tags": []
   },
   "outputs": [],
   "source": []
  }
 ],
 "metadata": {
  "kaggle": {
   "accelerator": "none",
   "dataSources": [
    {
     "datasetId": 8278519,
     "sourceId": 13071820,
     "sourceType": "datasetVersion"
    }
   ],
   "dockerImageVersionId": 31089,
   "isGpuEnabled": false,
   "isInternetEnabled": true,
   "language": "python",
   "sourceType": "notebook"
  },
  "kernelspec": {
   "display_name": "Python 3",
   "language": "python",
   "name": "python3"
  },
  "language_info": {
   "codemirror_mode": {
    "name": "ipython",
    "version": 3
   },
   "file_extension": ".py",
   "mimetype": "text/x-python",
   "name": "python",
   "nbconvert_exporter": "python",
   "pygments_lexer": "ipython3",
   "version": "3.11.13"
  },
  "papermill": {
   "default_parameters": {},
   "duration": 1948.711944,
   "end_time": "2025-09-18T02:23:26.110810",
   "environment_variables": {},
   "exception": null,
   "input_path": "__notebook__.ipynb",
   "output_path": "__notebook__.ipynb",
   "parameters": {},
   "start_time": "2025-09-18T01:50:57.398866",
   "version": "2.6.0"
  }
 },
 "nbformat": 4,
 "nbformat_minor": 5
}
